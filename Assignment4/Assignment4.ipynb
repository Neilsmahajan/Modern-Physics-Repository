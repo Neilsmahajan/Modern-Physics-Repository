{
 "cells": [
  {
   "cell_type": "markdown",
   "metadata": {},
   "source": [
    "### Emission Lines of Hydrogen"
   ]
  },
  {
   "cell_type": "markdown",
   "metadata": {},
   "source": [
    "Created by Natasha Proctor\n",
    "\n",
    "The background information below contains excerpts from Computational Physics by Mark Newman, Physics for Scientists and Engineers by Knight."
   ]
  },
  {
   "cell_type": "code",
   "execution_count": 1,
   "metadata": {},
   "outputs": [],
   "source": [
    "from IPython.display import Image\n",
    "from IPython.core.display import HTML "
   ]
  },
  {
   "cell_type": "markdown",
   "metadata": {},
   "source": [
    "When Bohr introduced his model of the atom, he contributed two new concepts to the Rutherford model that came from Einstein's ides of quanta:\n",
    "1. Only certain electron orbitals can exist\n",
    "2. An atom can jump from one state to another by emitting or absorbing a photon of just the right frequency to conserve energy"
   ]
  },
  {
   "cell_type": "markdown",
   "metadata": {},
   "source": [
    "One of the critical implications of the Bohr model is that atoms emit and absorb a discrete spectrum. Only those photons whos frequencies match the energy intervals between the stational states can be emitted or absorbed. Photons of other frequencies cannot be emitted or absorbed without violating energy conservation. "
   ]
  },
  {
   "cell_type": "code",
   "execution_count": 2,
   "metadata": {},
   "outputs": [
    {
     "data": {
      "text/html": [
       "<img src=\"https://d2vlcm61l7u1fs.cloudfront.net/media%2Fc80%2Fc80b5243-669e-43e4-abc6-9d8feb1cabff%2FphpqbgcTM.png\"/>"
      ],
      "text/plain": [
       "<IPython.core.display.Image object>"
      ]
     },
     "execution_count": 2,
     "metadata": {},
     "output_type": "execute_result"
    }
   ],
   "source": [
    "Image(url= \"https://d2vlcm61l7u1fs.cloudfront.net/media%2Fc80%2Fc80b5243-669e-43e4-abc6-9d8feb1cabff%2FphpqbgcTM.png\")"
   ]
  },
  {
   "cell_type": "markdown",
   "metadata": {},
   "source": [
    "In 1888 Johannes Rydberg published his famous formula for the wavelengths $\\lambda$ of the emission lines of the hydrogen atom. "
   ]
  },
  {
   "cell_type": "markdown",
   "metadata": {},
   "source": [
    "$$ \\frac{1}{\\lambda} = R \\left( \\frac{1}{n_1^2} - \\frac{1}{n_2^2} \\right) $$"
   ]
  },
  {
   "cell_type": "markdown",
   "metadata": {},
   "source": [
    "where $R$ is the Rydberg constant $R = 1.097\\ \\times\\ 10^{-2} nm^{-1}$ and $n_1$ and $n_2$ are positive integers. For a given value of $n_1$, the wavelengths $\\lambda$ given by this formula for all $n_2 > n_1$ form a series. The first three such series, for $n_1$ = 1, 2, and 3, being known as the Lyman, Balmer, and Paschen series, after their respective discoverers. These series are illustrated in the image above."
   ]
  },
  {
   "cell_type": "markdown",
   "metadata": {},
   "source": [
    "#### Part 1: Calculating the wavelength of an absorbed photon"
   ]
  },
  {
   "cell_type": "markdown",
   "metadata": {},
   "source": [
    "Write a python program that takes $n_1$ and $n_2$ as parameters and returns the wavelength of the absorbed photon."
   ]
  },
  {
   "cell_type": "code",
   "execution_count": 3,
   "metadata": {},
   "outputs": [],
   "source": [
    "R = 1.097E-2 #Rydberg constant [nm^(-1)]"
   ]
  },
  {
   "cell_type": "code",
   "execution_count": 4,
   "metadata": {},
   "outputs": [
    {
     "data": {
      "text/plain": [
       "'\\nThe function getWaveLength takes the parameters n_1, and n_2\\nn_1 is the principal quantum number of an energy level, and\\nn_2 is the principal quantum number of an energy level for the atomic electron transition\\nIt returns the rearanged Rydberg formula for the wavelengths lamda of the emission lines of the hydrogen atom\\n'"
      ]
     },
     "execution_count": 4,
     "metadata": {},
     "output_type": "execute_result"
    }
   ],
   "source": [
    "### TO DO: Write a function that uses n1, n2 and R to calculate the wavelength\n",
    "### DON'T FORGET YOUR DOC STRING!\n",
    "\n",
    "\n",
    "def getWavelength(n_1,n_2):\n",
    "    return (1/R)*(1/(1/(n_1**2)-1/(n_2**2)))\n",
    "\n",
    "\"\"\"\n",
    "The function getWaveLength takes the parameters n_1, and n_2\n",
    "n_1 is the principal quantum number of an energy level, and\n",
    "n_2 is the principal quantum number of an energy level for the atomic electron transition\n",
    "It returns the rearanged Rydberg formula for the wavelengths lamda of the emission lines of the hydrogen atom\n",
    "\"\"\""
   ]
  },
  {
   "cell_type": "code",
   "execution_count": 5,
   "metadata": {},
   "outputs": [],
   "source": [
    "assert( abs(getWavelength(1, 2) - 121.54) < 0.01 )"
   ]
  },
  {
   "cell_type": "markdown",
   "metadata": {},
   "source": [
    "#### Part 2: Wavelength of a photon absorbed during ionization"
   ]
  },
  {
   "cell_type": "markdown",
   "metadata": {},
   "source": [
    "Notice as the value of $n$ get very large, the energy levels converge to a value. This value is $E = 0$ eV and occurs at $ n = \\infty$. This state is known as the ionization limit."
   ]
  },
  {
   "cell_type": "markdown",
   "metadata": {},
   "source": [
    "We can calculate the ground state energy of the Hydrogen atom by finding the ionization energy. The ionization energy is the amount of energy needed for the electron to transition from $n=1$ to $n=\\infty$. In other words, the amount of energy needed to remove the electron entirely from the atom in its ground state."
   ]
  },
  {
   "cell_type": "markdown",
   "metadata": {},
   "source": [
    "Analytically, find an expression for $\\lambda$ as $n_2 \\rightarrow \\infty$. Write this equation below using LaTeX."
   ]
  },
  {
   "cell_type": "code",
   "execution_count": 6,
   "metadata": {},
   "outputs": [],
   "source": [
    "### TO DO: Write a LaTeX equation for lambda as n2 -> inf"
   ]
  },
  {
   "cell_type": "markdown",
   "metadata": {},
   "source": [
    "$$ \\lim_{n_2\\to\\infty}\\lambda=\\lim_{n_2\\to\\infty}\\frac{1}{R}\\left(\\frac{1}{\\left(\\frac{1}{n_1^2}-\\frac{1}{n_2^2}\\right)}\\right)=\\frac{1}{R}\\left(\\frac{1}{\\left(\\frac{1}{n_1^2}\\right)}\\right)=\\frac{n_1^2}{R} $$\n",
    " "
   ]
  },
  {
   "cell_type": "code",
   "execution_count": 7,
   "metadata": {},
   "outputs": [],
   "source": [
    "### TO DO: Briefly explain your analytical solution."
   ]
  },
  {
   "cell_type": "markdown",
   "metadata": {},
   "source": [
    "The equation calculates the limit of lambda as n_2 goes to infinity which is the wavelength required to remove the electron entirely from the atom in its ground state."
   ]
  },
  {
   "cell_type": "markdown",
   "metadata": {},
   "source": [
    "Instead of purely calculating the ionization energy, we can expand our functionality and calculate the electron binding energy. This is the amount of energy needed for the electron to transition from $n = m$ to $n = \\infty$ where $m \\ge 1$. \n",
    "\n",
    "Using your analytical solution above, write an equation that determines the wavelength of a photon absorbed when an atom is ionized from an integer state $n$."
   ]
  },
  {
   "cell_type": "code",
   "execution_count": 8,
   "metadata": {},
   "outputs": [],
   "source": [
    "### TO DO: Write a function uses n1 to calculate the binding energy\n",
    "\n",
    "# The function getWavelength() takes in the parameter n_1 and returns the wavelength\n",
    "\n",
    "def getWavelength(n_1):\n",
    "    return n_1**2/R"
   ]
  },
  {
   "cell_type": "code",
   "execution_count": 9,
   "metadata": {},
   "outputs": [],
   "source": [
    "### TO DO: Write an assert statement\n",
    "import math\n",
    "\n",
    "# The assert statement checks if the getWavelength() function with input 2 returns a number from 364 to 365\n",
    "\n",
    "assert( math.floor(getWavelength(2)) == 364)"
   ]
  },
  {
   "cell_type": "markdown",
   "metadata": {},
   "source": [
    "#### Part 3: Finding the frequency"
   ]
  },
  {
   "cell_type": "markdown",
   "metadata": {},
   "source": [
    "The frequency of the absorbed photon can be calculated from the wavelength and velocity of the wave. Since a photon is an electromagnetic wave, the velocity is the speed of light $c = 2.998 \\times 10^{8} m/s$. \n",
    "\n",
    "(Don't forget to convert $\\lambda$ from $nm$ to $m$)\n",
    "$$ f = \\frac{c}{\\lambda} $$"
   ]
  },
  {
   "cell_type": "markdown",
   "metadata": {},
   "source": [
    "Write a function that calculates the frequency of an electromagnetic wave from a known wavelength."
   ]
  },
  {
   "cell_type": "code",
   "execution_count": 10,
   "metadata": {},
   "outputs": [],
   "source": [
    "c = 2.998E8 # Speed of light [m/s]"
   ]
  },
  {
   "cell_type": "code",
   "execution_count": 11,
   "metadata": {},
   "outputs": [],
   "source": [
    "### TO DO: Add a function to determine your frequency\n",
    "\n",
    "# The function getFreqeuncy() takes in the parameter wavelen which is the wavelength and returns the frequency\n",
    "\n",
    "def getFrequency(wavelen):\n",
    "    wavelength = wavelen * 10**(-9)\n",
    "    return c/wavelength"
   ]
  },
  {
   "cell_type": "code",
   "execution_count": 12,
   "metadata": {},
   "outputs": [],
   "source": [
    "### TO DO: Add AT LEAST one assert statement to test your function\n",
    "import math\n",
    "\n",
    "# The assert statement checks if the getFrequency() function with input 720 returns a number times 10^(-12) between 416 and 417\n",
    "\n",
    "assert( math.floor(getFrequency(720)*10**-12) == 416)"
   ]
  },
  {
   "cell_type": "markdown",
   "metadata": {},
   "source": [
    "#### Part 4: Finding the energy"
   ]
  },
  {
   "cell_type": "markdown",
   "metadata": {},
   "source": [
    "Finally, using that frequency and Planck's constant ($h = 6.626 \\times 10^{-34} Js$) we can find the energy of the photon. (Note: $1 eV = 1.602 \\times 10^{-19} J)$\n",
    "\n",
    "$$ E = hf $$"
   ]
  },
  {
   "cell_type": "code",
   "execution_count": 13,
   "metadata": {},
   "outputs": [],
   "source": [
    "eV = 1.602E-19 # Electron Volt conversion [J]\n",
    "h = 6.626E-34 # Planck's constant [Js]"
   ]
  },
  {
   "cell_type": "code",
   "execution_count": 14,
   "metadata": {},
   "outputs": [],
   "source": [
    "# TO DO: Add a function to determine the energy\n",
    "\n",
    "# The function getEnergy() takes in the parameter frequency which is the frequency of the photon and returns the energy of the photon\n",
    "\n",
    "def getEnergy(frequency):\n",
    "    return h*frequency"
   ]
  },
  {
   "cell_type": "code",
   "execution_count": 15,
   "metadata": {},
   "outputs": [],
   "source": [
    "# TO DO: Add AT LEAST one assert statement to test your function\n",
    "assert(getEnergy(4.3*10**14)==2.84918*10**(-19))"
   ]
  },
  {
   "cell_type": "markdown",
   "metadata": {},
   "source": [
    "#### Part 5: Bringing it together"
   ]
  },
  {
   "cell_type": "markdown",
   "metadata": {},
   "source": [
    "Using all of the functions you've created so far, create one master equation that accepts a state $n_1$ and returns the electron binding energy (i.e. the energy of the photon absorbed)."
   ]
  },
  {
   "cell_type": "code",
   "execution_count": 16,
   "metadata": {},
   "outputs": [],
   "source": [
    "# Don't change the name/parameters of this function -- I use it in a graph below\n",
    "\n",
    "def binding_energy(n_1):\n",
    "    \"\"\"\n",
    "    Returns the binding energy of n1 in eV\n",
    "    Parameters:\n",
    "        n1 (int) ground state of the Hydrogen atom\n",
    "    Return:\n",
    "        (float) energy of absorbed photon\n",
    "    \"\"\"\n",
    "    wavelength = getWavelength(n_1)\n",
    "    frequency = getFrequency(wavelength)\n",
    "    return (getEnergy(frequency)*6.241509*10**18)"
   ]
  },
  {
   "cell_type": "code",
   "execution_count": 17,
   "metadata": {},
   "outputs": [
    {
     "name": "stdout",
     "output_type": "stream",
     "text": [
      "13.6012645756931\n"
     ]
    }
   ],
   "source": [
    "print(binding_energy(1))"
   ]
  },
  {
   "cell_type": "markdown",
   "metadata": {},
   "source": [
    "Run your function above using $n_1 = 1$. This is the ionization energy. From conservation of energy, we know the energy of the absorbed photon must be equal to the energy gained by the electron. Since the electron moved from the ground state to the $E = 0$ eV state  during ionization, the ground state energy must be equal to the $-E_{photon}$"
   ]
  },
  {
   "cell_type": "markdown",
   "metadata": {},
   "source": [
    "Therefore, what is the energy of the ground state of the Hydrogen atom? Answer below. (You can check your answer using Google)"
   ]
  },
  {
   "cell_type": "code",
   "execution_count": 18,
   "metadata": {},
   "outputs": [],
   "source": [
    "# The function groundStateEnergy() takes the parameter n_1 and returns the ground state energy\n",
    "\n",
    "def groundStateEnergy(n_1):\n",
    "    return -(binding_energy(n_1))"
   ]
  },
  {
   "cell_type": "code",
   "execution_count": 19,
   "metadata": {},
   "outputs": [
    {
     "name": "stdout",
     "output_type": "stream",
     "text": [
      "-13.6012645756931\n"
     ]
    }
   ],
   "source": [
    "print(groundStateEnergy(1))"
   ]
  },
  {
   "cell_type": "markdown",
   "metadata": {},
   "source": [
    "The energy of the ground state of the Hydrogen is equal to the $-E_{photon}$ where $n_1=1$. So, $E_{ground}=-2.1791628556\\times10^{-27}J=$."
   ]
  },
  {
   "cell_type": "markdown",
   "metadata": {},
   "source": [
    "#### Part 6: Visualizing Results"
   ]
  },
  {
   "cell_type": "markdown",
   "metadata": {},
   "source": [
    "Using your function that calculates wavelengths, we can create our own Hydrogen emissions spectrum visualization. Run the cells below to check it out."
   ]
  },
  {
   "cell_type": "code",
   "execution_count": 20,
   "metadata": {},
   "outputs": [],
   "source": [
    "import matplotlib.pyplot as plt\n",
    "import numpy as np\n",
    "from ipywidgets import interact, fixed"
   ]
  },
  {
   "cell_type": "code",
   "execution_count": 21,
   "metadata": {},
   "outputs": [],
   "source": [
    "# In order for this to run correctly, you must have the binding_energy implemented correctly\n",
    "# If you have any issues with this, e-mail me or ask in class I'll help you debug.\n",
    "\n",
    "def plot_spectrum(lines):\n",
    "    f = plt.figure(figsize=(8,20)) # <-- modify these numbers to change the size of the image\n",
    "    n = np.linspace(1,lines,lines)\n",
    "    x = np.linspace(1,10,10)\n",
    "    energies = -binding_energy(n)\n",
    "    for i in range(len(energies)):\n",
    "        y = np.ones(10) * energies[i]\n",
    "        plt.plot(x, y)\n",
    "        plt.ylim(-14, 1)\n",
    "        plt.xlim(-2, 12)\n",
    "        plt.text(x[0] - 1, y[0], \"n = {i}\".format(i = i+1))\n",
    "        plt.ylabel(\"Energy (eV)\")\n",
    "        plt.title(\"Energy level diagram of the Hydrogen atom\")\n",
    "        plt.gca().axes.get_xaxis().set_visible(False)\n",
    "    plt.show()"
   ]
  },
  {
   "cell_type": "code",
   "execution_count": 22,
   "metadata": {},
   "outputs": [
    {
     "data": {
      "application/vnd.jupyter.widget-view+json": {
       "model_id": "62c3cc578b4b4d3f9cf344503a8b86a2",
       "version_major": 2,
       "version_minor": 0
      },
      "text/plain": [
       "interactive(children=(IntSlider(value=10, description='lines', max=20, min=1), Output()), _dom_classes=('widge…"
      ]
     },
     "metadata": {},
     "output_type": "display_data"
    }
   ],
   "source": [
    "interact(plot_spectrum, lines = (1,20));"
   ]
  }
 ],
 "metadata": {
  "kernelspec": {
   "display_name": "Python 3",
   "language": "python",
   "name": "python3"
  },
  "language_info": {
   "codemirror_mode": {
    "name": "ipython",
    "version": 3
   },
   "file_extension": ".py",
   "mimetype": "text/x-python",
   "name": "python",
   "nbconvert_exporter": "python",
   "pygments_lexer": "ipython3",
   "version": "3.8.8"
  }
 },
 "nbformat": 4,
 "nbformat_minor": 2
}
